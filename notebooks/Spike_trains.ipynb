{
 "cells": [
  {
   "cell_type": "code",
   "execution_count": null,
   "metadata": {},
   "outputs": [],
   "source": [
    "import os\n",
    "import sys\n",
    "import glob\n",
    "import pickle\n",
    "import time\n",
    "import numpy as np\n",
    "import matplotlib.pyplot as plt\n",
    "from numpy.random import RandomState, SeedSequence, MT19937\n",
    "if '../DL' not in sys.path:\n",
    "    sys.path.append('../DL')\n",
    "from utils import *"
   ]
  },
  {
   "cell_type": "markdown",
   "metadata": {},
   "source": [
    "### Functions that define the animal position and a place cell's firing rate"
   ]
  },
  {
   "cell_type": "code",
   "execution_count": null,
   "metadata": {},
   "outputs": [],
   "source": [
    "def pos(t, speed, length):\n",
    "    return (speed * t) % length\n",
    "\n",
    "def time_constant(x, middle_PF, sigma_PF):\n",
    "    return np.exp(-(x - middle_PF)**2 / (2 * (sigma_PF/(2*np.pi)*track_length)**2))\n",
    "\n",
    "def firing_rate(t, max_rate, length_PF, start_PF, middle_PF, sigma_PF, animal_speed, track_length, ftheta):\n",
    "    x = pos(t, animal_speed, track_length)\n",
    "    rate = max_rate * time_constant(x, middle_PF, sigma_PF) * \\\n",
    "                np.cos(2 * np.pi * ftheta * t + \\\n",
    "                       np.pi / length_PF * (x - start_PF))\n",
    "    if np.isscalar(t):\n",
    "        return rate if rate > 0 else 0\n",
    "    rate[rate < 0] = 0\n",
    "    return rate"
   ]
  },
  {
   "cell_type": "markdown",
   "metadata": {},
   "source": [
    "#### Simulation parameters taken from the authors' code, not necessarily from the paper"
   ]
  },
  {
   "cell_type": "code",
   "execution_count": null,
   "metadata": {},
   "outputs": [],
   "source": [
    "track_length = 300 # (cm)\n",
    "animal_speed = 32.43567842 # (cm/s)\n",
    "lap_time = track_length / animal_speed # (s)\n",
    "max_rate = 20 # (Hz)\n",
    "length_PF = 30 # (cm)\n",
    "r = track_length / (2 * np.pi)\n",
    "phi_PF_rad = length_PF / (2 * np.pi)\n",
    "middle_PF = track_length * np.random.uniform() # (cm)\n",
    "start_PF = (middle_PF - length_PF / 2) % track_length\n",
    "# sigma_PF = 0.146\n",
    "sigma_PF = length_PF/2 / track_length * 2 * np.pi / 3\n",
    "ftheta = 7 # (Hz)\n",
    "total_time = 3600 # (s)\n",
    "\n",
    "print(f'Beginning of the place field: {start_PF:.3f} cm')\n",
    "print(f'Middle of the place field: {middle_PF:.3f} cm')\n",
    "print(f'Stddev of the place field: {sigma_PF:.3f} rad')\n",
    "print(f'Time to run a single lap: {lap_time:.2f} s')"
   ]
  },
  {
   "cell_type": "markdown",
   "metadata": {},
   "source": [
    "#### Plot animal position and place cell's firing rate as a function of time"
   ]
  },
  {
   "cell_type": "code",
   "execution_count": null,
   "metadata": {},
   "outputs": [],
   "source": [
    "n_laps = 1\n",
    "t = np.linspace(0, n_laps * lap_time, n_laps * 1000, endpoint=False)\n",
    "x = pos(t, animal_speed, track_length)\n",
    "tau = time_constant(x, middle_PF, sigma_PF)\n",
    "rate = firing_rate(t, max_rate,\n",
    "                   length_PF, start_PF, middle_PF, sigma_PF,\n",
    "                   animal_speed, track_length, ftheta)\n",
    "\n",
    "fig,ax = plt.subplots(3, 1, figsize=(6, 6), sharex=True)\n",
    "ax[0].plot(t, x, 'k', lw=1)\n",
    "ax[1].plot(t, tau, 'k', lw=1)\n",
    "ax[2].plot(t, rate, 'k', lw=1)\n",
    "ax[0].set_xlim([0, lap_time])\n",
    "ax[0].set_ylabel('Position (cm)')\n",
    "ax[1].set_ylabel(r'$\\tau$ (s)')\n",
    "ax[2].set_ylabel('Firing rate (spikes/s)')\n",
    "ax[2].set_xlabel('Lap time (s)')\n",
    "for a in ax:\n",
    "    for side in 'right','top':\n",
    "        a.spines[side].set_visible(False)\n",
    "fig.tight_layout()"
   ]
  },
  {
   "cell_type": "markdown",
   "metadata": {},
   "source": [
    "## Generation of inhomogeneous Poisson spike times\n",
    "\n",
    "We start by generating `n_laps` indipendent trials, each with a duration equal to a single lap time."
   ]
  },
  {
   "cell_type": "code",
   "execution_count": null,
   "metadata": {},
   "outputs": [],
   "source": [
    "rate_fun = lambda t: firing_rate(t, max_rate,\n",
    "                                 length_PF, start_PF, middle_PF, sigma_PF,\n",
    "                                 animal_speed, track_length, ftheta)\n",
    "n_laps = int(total_time / lap_time)\n",
    "seed = int(time.time())\n",
    "rs = RandomState(MT19937(SeedSequence(seed)))\n",
    "seeds = np.unique(rs.randint(0, 100000, size=2 * n_laps))[:n_laps]\n",
    "states = [RandomState(MT19937(SeedSequence(seed))) for seed in seeds]\n",
    "spikes, all_spikes = [], []\n",
    "for state in states:\n",
    "    a,b = make_inhomogeneous_poisson_spike_train(rate_fun, max_rate,\n",
    "                                                 tend=lap_time,\n",
    "                                                 random_state=state,\n",
    "                                                 full_output=True)\n",
    "    spikes.append(a)\n",
    "    all_spikes.append(b)"
   ]
  },
  {
   "cell_type": "markdown",
   "metadata": {},
   "source": [
    "When we plot these, we see that the firing rate of the inhomogeneous Poisson process perfectly matches the theoretical firing rate of the place cell: this happens because each trial is aligned to time 0."
   ]
  },
  {
   "cell_type": "code",
   "execution_count": null,
   "metadata": {},
   "outputs": [],
   "source": [
    "pos_fun = lambda times: [pos(t, animal_speed, track_length) for t in times]\n",
    "fig,ax = plt.subplots(2, 1, figsize=(6, 6), sharex=True)\n",
    "rasterplot(pos_fun(all_spikes), 50, ax=ax[0])\n",
    "rasterplot(pos_fun(spikes), 50, ax=ax[0], marker='x', color='r', markersize=3)\n",
    "bw = 0.1 / ftheta\n",
    "nu, edges, count = psth(all_spikes, binwidth=bw, interval=[0, lap_time])\n",
    "ax[1].plot(pos_fun(edges), nu, 'k', lw=1, label='Hom Poisson rate')\n",
    "nu, edges, count = psth(spikes, binwidth=bw, interval=[0, lap_time])\n",
    "ax[1].plot(pos_fun(edges), rate_fun(edges), 'g', lw=1, label='Theor rate')\n",
    "ax[1].plot(pos_fun(edges), nu, 'm', lw=1, label='Inhom Poisson rate')\n",
    "ylim = ax[1].get_ylim()\n",
    "ax[1].plot(start_PF + np.zeros(2), ylim, 'c--', lw=1)\n",
    "ax[1].plot(middle_PF + np.zeros(2), ylim, 'c--', lw=1)\n",
    "ax[1].plot(middle_PF + length_PF / 2 + np.zeros(2), ylim, 'c--', lw=1)\n",
    "ax[0].set_xlim([0, track_length])\n",
    "ax[0].set_ylabel('Lap #')\n",
    "ax[1].set_ylabel('Firing rate (spikes/s)')\n",
    "ax[1].set_xlabel('Position (cm)')\n",
    "ax[1].legend(loc='best')\n",
    "for a in ax:\n",
    "    for side in 'right','top':\n",
    "        a.spines[side].set_visible(False)\n",
    "fig.tight_layout()"
   ]
  },
  {
   "cell_type": "markdown",
   "metadata": {},
   "source": [
    "We now generate a single realization, lasting `total_time`, and then reshape it based on the duration of each lap."
   ]
  },
  {
   "cell_type": "code",
   "execution_count": null,
   "metadata": {},
   "outputs": [],
   "source": [
    "seed = int(time.time())\n",
    "rs = RandomState(MT19937(SeedSequence(seed)))\n",
    "spikes, all_spikes = make_inhomogeneous_poisson_spike_train(rate_fun, max_rate,\n",
    "                                                            tend=total_time,\n",
    "                                                            random_state=rs,\n",
    "                                                            full_output=True)\n",
    "edges = np.r_[0 : total_time : lap_time]\n",
    "jdx = np.digitize(all_spikes, edges)\n",
    "all_spikes_reshaped = [all_spikes[jdx == j] - (j-1) * lap_time for j in np.unique(jdx)]\n",
    "jdx = np.digitize(spikes, edges)\n",
    "spikes_reshaped = [spikes[jdx == j] - (j-1) * lap_time for j in np.unique(jdx)]"
   ]
  },
  {
   "cell_type": "markdown",
   "metadata": {},
   "source": [
    "Now we see that the place cell's firing rate does not match perfectly the theoretical one: this has to do with the fact that laps are not perfectly aligned as before (set `animal_speed = 30` above to obtain a firing rate that looks exactly like the one in the previous plot). This also matches what we see applying the same procedure to the spike times generated by the paper authors' code."
   ]
  },
  {
   "cell_type": "code",
   "execution_count": null,
   "metadata": {},
   "outputs": [],
   "source": [
    "fig,ax = plt.subplots(2, 1, figsize=(6, 6), sharex=True)\n",
    "max_laps = 50\n",
    "rasterplot(pos_fun(all_spikes_reshaped), max_laps, ax=ax[0])\n",
    "rasterplot(pos_fun(spikes_reshaped), max_laps, ax=ax[0], marker='x', color='r', markersize=3)\n",
    "nu, edges, count = psth(all_spikes_reshaped, binwidth=0.1 / ftheta, interval=[0, lap_time])\n",
    "ax[1].plot(pos_fun(edges), nu, 'k', lw=1, label='Hom Poisson rate')\n",
    "nu, edges, count = psth(spikes_reshaped, binwidth=0.1 / ftheta, interval=[0, lap_time])\n",
    "ax[1].plot(pos_fun(edges), rate_fun(edges), 'g', lw=1, label='Theor rate')\n",
    "ax[1].plot(pos_fun(edges), nu, 'm', lw=1, label='Inhom Poisson rate')\n",
    "ylim = ax[1].get_ylim()\n",
    "ax[1].plot(start_PF + np.zeros(2), ylim, 'c--', lw=1)\n",
    "ax[1].plot(middle_PF + np.zeros(2), ylim, 'c--', lw=1)\n",
    "ax[1].plot(middle_PF + length_PF / 2 + np.zeros(2), ylim, 'c--', lw=1)\n",
    "ax[0].set_xlim([0, track_length])\n",
    "ax[0].set_ylabel('Lap #')\n",
    "ax[1].set_ylabel('Firing rate (spikes/s)')\n",
    "ax[1].set_xlabel('Position (cm)')\n",
    "ax[1].legend(loc='best')\n",
    "for a in ax:\n",
    "    for side in 'right','top':\n",
    "        a.spines[side].set_visible(False)\n",
    "fig.tight_layout()"
   ]
  },
  {
   "cell_type": "markdown",
   "metadata": {},
   "source": [
    "#### Data generated with the paper's code"
   ]
  },
  {
   "cell_type": "code",
   "execution_count": null,
   "metadata": {},
   "outputs": [],
   "source": [
    "data_folder = os.path.join('..', 'files')\n",
    "place_cell_ratio = 0.5\n",
    "n_neurons = 8000\n",
    "linear = True\n",
    "f_in = make_filename('spike_trains', n_neurons, place_cell_ratio, total_time, linear, '.npz')\n",
    "spikes_file = os.path.join(data_folder, f_in)\n",
    "f_in = make_filename('PFstarts', n_neurons, place_cell_ratio, total_time, linear, '.pkl')\n",
    "PF_pos_file = os.path.join(data_folder, f_in)\n",
    "spike_trains = np.load(spikes_file, allow_pickle=True)['spike_trains']\n",
    "PF_positions = pickle.load(open(PF_pos_file, 'rb'))\n",
    "\n",
    "# this is the value in the code that generates these spike times\n",
    "animal_speed = 32.43567842 # (cm/s)\n",
    "lap_time = track_length / animal_speed # (s)"
   ]
  },
  {
   "cell_type": "code",
   "execution_count": null,
   "metadata": {},
   "outputs": [],
   "source": [
    "idx = 1002\n",
    "spks = np.array(spike_trains[idx])\n",
    "edges = np.r_[0 : total_time : lap_time]\n",
    "jdx = np.digitize(spks, edges)\n",
    "tmp = [spks[jdx == j] - (j-1) * lap_time for j in np.unique(jdx)]\n",
    "nu, edges, count = psth(tmp, binwidth=0.1 / ftheta, interval=[0, lap_time])\n",
    "fig,ax = plt.subplots(2, 1, figsize=(6, 6), sharex=True)\n",
    "max_laps = 50\n",
    "rasterplot(pos_fun(tmp), max_laps, ax=ax[0], color='r')\n",
    "ax[1].plot(pos_fun(edges), nu, 'm', lw=1, label='Inhom Poisson rate')\n",
    "if idx in PF_positions:\n",
    "    x = PF_positions[idx] / (2 * np.pi) * track_length\n",
    "    ax[0].plot(x + np.zeros(2), [0, max_laps], 'g--')\n",
    "    ax[1].plot(x + np.zeros(2), [0, nu.max()], 'g--', label='PF start')\n",
    "ax[0].set_xlim([0, track_length])\n",
    "ax[1].set_xlabel('Position (cm)')\n",
    "ax[0].set_ylabel('Lap #')\n",
    "ax[1].set_ylabel('Firing rate (spikes/s)')\n",
    "ax[1].legend(loc='best')\n",
    "for a in ax:\n",
    "    for side in 'right','top':\n",
    "        a.spines[side].set_visible(False)\n",
    "fig.tight_layout()"
   ]
  }
 ],
 "metadata": {
  "kernelspec": {
   "display_name": "Python 3.9",
   "language": "python",
   "name": "python-3.9"
  },
  "language_info": {
   "codemirror_mode": {
    "name": "ipython",
    "version": 3
   },
   "file_extension": ".py",
   "mimetype": "text/x-python",
   "name": "python",
   "nbconvert_exporter": "python",
   "pygments_lexer": "ipython3",
   "version": "3.9.9"
  }
 },
 "nbformat": 4,
 "nbformat_minor": 4
}
