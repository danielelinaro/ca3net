{
 "cells": [
  {
   "cell_type": "code",
   "execution_count": null,
   "metadata": {},
   "outputs": [],
   "source": [
    "import json\n",
    "import pickle\n",
    "import numpy as np\n",
    "import matplotlib.pyplot as plt\n",
    "from brian2 import *\n",
    "\n",
    "%matplotlib inline"
   ]
  },
  {
   "cell_type": "code",
   "execution_count": null,
   "metadata": {},
   "outputs": [],
   "source": [
    "cell_types = ['RS', 'IB', 'FS']\n",
    "config_files = [f'../DL/configs/{cell_type}.json' for cell_type in cell_types]\n",
    "parameters = {cell_type: json.load(open(config_file)) for cell_type,config_file in\n",
    "              zip(cell_types,config_files)}"
   ]
  },
  {
   "cell_type": "code",
   "execution_count": null,
   "metadata": {},
   "outputs": [],
   "source": [
    "neuron_groups = {}\n",
    "state_monitors = {}\n",
    "spike_monitors = {}\n",
    "\n",
    "net = Network()\n",
    "\n",
    "nrn_eqs = \"\"\"\n",
    "dV/dt = (-gL_{0} * (V - EL_{0}) + gL_{0} * DeltaT_{0} * \n",
    "         exp((V - VT_{0}) / DeltaT_{0}) + I_{0} - w) / Cm_{0} : volt (unless refractory)\n",
    "dw/dt = (a_{0} * (V - EL_{0}) - w) / tauw_{0} : amp\n",
    "\"\"\"\n",
    "\n",
    "for cell_type in cell_types:\n",
    "    params = parameters[cell_type]\n",
    "    P = {\n",
    "        'Cm': (params['C_m'], pF),\n",
    "        'gL': (params['g_L'], nS),\n",
    "        'EL': (params['E_L'], mV),\n",
    "        'VT': (params['V_th'], mV),\n",
    "        'Vpeak': (params['V_peak'], mV),\n",
    "        'Vreset': (params['V_reset'], mV),\n",
    "        'DeltaT': (params['Delta_T'], mV),\n",
    "        'tauw': (params['tau_w'], ms),\n",
    "        'a': (params['a'], nS),\n",
    "        'b': (params['b'], pA),\n",
    "        'tarp': (params['tau_arp'] if 'tau_arp' in params else 0, ms),\n",
    "        'I': (params['I_e'], pA),\n",
    "    }\n",
    "    for par_name,(value,unit) in P.items():\n",
    "        exec(f'{par_name}_{cell_type} = {value} * {unit}')\n",
    "    eqs = nrn_eqs.format(cell_type)\n",
    "    group = NeuronGroup(2, model=eqs,\n",
    "                        threshold=f'V>Vpeak_{cell_type}',\n",
    "                        reset=f'V=Vreset_{cell_type}; w+=b_{cell_type}',\n",
    "                        refractory=f'tarp_{cell_type}',\n",
    "                        method='exponential_euler')\n",
    "    group.V = params['E_L'] * mV\n",
    "    group.w = 0 * pA\n",
    "    neuron_groups[cell_type] = group\n",
    "    \n",
    "    state_monitors[cell_type] = StateMonitor(group, ['V', 'w'], record=True)\n",
    "    spike_monitors[cell_type] = SpikeMonitor(group)\n",
    "\n",
    "    net.add(neuron_groups[cell_type])\n",
    "    net.add(state_monitors[cell_type])\n",
    "    net.add(spike_monitors[cell_type])"
   ]
  },
  {
   "cell_type": "code",
   "execution_count": null,
   "metadata": {},
   "outputs": [],
   "source": [
    "stim_start, stim_dur = 100 * ms, 200 * ms\n",
    "stim_stop = stim_start + stim_dur\n",
    "\n",
    "for cell_type in cell_types:\n",
    "    exec(f'I_{cell_type} = 0 * pA')\n",
    "net.run(stim_start)\n",
    "for cell_type in cell_types:\n",
    "    exec(f'I_{cell_type} = parameters[\"{cell_type}\"][\"I_e\"] * pA')\n",
    "net.run(stim_dur)\n",
    "for cell_type in cell_types:\n",
    "    exec(f'I_{cell_type} = 0 * pA')\n",
    "net.run(stim_start)"
   ]
  },
  {
   "cell_type": "code",
   "execution_count": null,
   "metadata": {},
   "outputs": [],
   "source": [
    "time = state_monitors[cell_types[0]].t / ms\n",
    "V = {cell_type: state_monitors[cell_type].V / mV for cell_type in cell_types}\n",
    "w = {cell_type: state_monitors[cell_type].w / pA for cell_type in cell_types}"
   ]
  },
  {
   "cell_type": "code",
   "execution_count": null,
   "metadata": {},
   "outputs": [],
   "source": [
    "fig,ax = plt.subplots(2, 1, sharex=True)\n",
    "cmap = plt.get_cmap('jet', len(cell_types))\n",
    "for i,cell_type in enumerate(cell_types):\n",
    "    ax[0].plot(time, V[cell_type][0], color=cmap(i), lw=1)\n",
    "    ax[1].plot(time, w[cell_type][0], color=cmap(i), lw=1, label=cell_type)\n",
    "for axx in ax:\n",
    "    axx.grid(which='major', axis='both', color=[.6,.6,.6], ls=':', lw=0.5)\n",
    "    for side in 'right','top':\n",
    "        axx.spines[side].set_visible(False)\n",
    "ax[0].set_xlim([stim_start/ms - 20, stim_stop/ms + 100])\n",
    "ax[-1].set_xlabel('Time (ms)')\n",
    "ax[0].set_ylabel('V (mV)')\n",
    "ax[1].set_ylabel('w (pA)')\n",
    "ax[1].legend(loc='upper right')\n",
    "fig.tight_layout()"
   ]
  }
 ],
 "metadata": {
  "kernelspec": {
   "display_name": "Python 3.9",
   "language": "python",
   "name": "python-3.9"
  },
  "language_info": {
   "codemirror_mode": {
    "name": "ipython",
    "version": 3
   },
   "file_extension": ".py",
   "mimetype": "text/x-python",
   "name": "python",
   "nbconvert_exporter": "python",
   "pygments_lexer": "ipython3",
   "version": "3.9.9"
  }
 },
 "nbformat": 4,
 "nbformat_minor": 4
}
