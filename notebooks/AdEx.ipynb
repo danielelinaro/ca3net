{
 "cells": [
  {
   "cell_type": "code",
   "execution_count": null,
   "metadata": {},
   "outputs": [],
   "source": [
    "import json\n",
    "import pickle\n",
    "import numpy as np\n",
    "import matplotlib.pyplot as plt\n",
    "from brian2 import *\n",
    "\n",
    "%matplotlib inline"
   ]
  },
  {
   "cell_type": "code",
   "execution_count": null,
   "metadata": {},
   "outputs": [],
   "source": [
    "# cell_type = 'regular_spiking'\n",
    "# cell_type = 'adapting_spiking'\n",
    "# cell_type = 'initial_bursting'\n",
    "# cell_type = 'regular_bursting'\n",
    "# cell_type = 'delayed_regular_bursting'\n",
    "# cell_type = 'fast_spiking'\n",
    "# cell_type = 'thorny'\n",
    "cell_type = 'a-thorny'\n",
    "config_file = f'../DL/configs/{cell_type}.json'\n",
    "params = json.load(open(config_file))"
   ]
  },
  {
   "cell_type": "code",
   "execution_count": null,
   "metadata": {},
   "outputs": [],
   "source": [
    "Cm      = params['C_m'] * pF\n",
    "gL      = params['g_L'] * nS\n",
    "EL      = params['E_L'] * mV\n",
    "VT      = params['V_th'] * mV\n",
    "Vpeak   = params['V_peak'] * mV\n",
    "Vreset  = params['V_reset'] * mV\n",
    "DeltaT  = params['Delta_T'] * mV\n",
    "tauw    = params['tau_w'] * ms\n",
    "a       = params['a'] * nS\n",
    "b       = params['b'] * pA\n",
    "tarp    = params['tau_arp'] * ms if 'tau_arp' in params else 0 * ms"
   ]
  },
  {
   "cell_type": "code",
   "execution_count": null,
   "metadata": {},
   "outputs": [],
   "source": [
    "eqs = \"\"\"\n",
    "dV/dt = (-gL * (V - EL) + gL * DeltaT * \n",
    "         exp((V - VT) / DeltaT) + I - w) / Cm : volt (unless refractory)\n",
    "dw/dt = (a * (V - EL) - w) / tauw : amp\n",
    "\"\"\"\n",
    "\n",
    "cell = NeuronGroup(1, model=eqs,\n",
    "                   threshold='V>Vpeak',\n",
    "                   reset='V=Vreset; w+=b',\n",
    "                   refractory=tarp, method='exponential_euler')\n",
    "\n",
    "state_mon = StateMonitor(cell, ['V', 'w'], record=True)\n",
    "spike_mon = SpikeMonitor(cell)\n",
    "\n",
    "net = Network()\n",
    "net.add(cell)\n",
    "net.add(state_mon)\n",
    "net.add(spike_mon)"
   ]
  },
  {
   "cell_type": "code",
   "execution_count": null,
   "metadata": {},
   "outputs": [],
   "source": [
    "stim_start, stim_dur = 100 * ms, 400 * ms\n",
    "stim_stop = stim_start + stim_dur\n",
    "\n",
    "cell.V[0] = EL\n",
    "I = 0 * pA\n",
    "net.run(stim_start)\n",
    "I = params['I_e'] * pA\n",
    "net.run(stim_dur)\n",
    "I = 0 * pA\n",
    "net.run(stim_start)"
   ]
  },
  {
   "cell_type": "code",
   "execution_count": null,
   "metadata": {},
   "outputs": [],
   "source": [
    "spike_times = spike_mon.t / ms\n",
    "ISI = np.diff(spike_times)\n",
    "f = 1000 / ISI\n",
    "print(f'The cell emitted {spike_mon.count[0]} spikes.')\n",
    "print('\\nSpike times:')\n",
    "print(spike_times)\n",
    "print('\\nInverse of the ISIs:')\n",
    "print(f)"
   ]
  },
  {
   "cell_type": "code",
   "execution_count": null,
   "metadata": {},
   "outputs": [],
   "source": [
    "time = state_mon.t / ms\n",
    "V = state_mon.V[0] / mV\n",
    "w = state_mon.w[0] / pA"
   ]
  },
  {
   "cell_type": "code",
   "execution_count": null,
   "metadata": {},
   "outputs": [],
   "source": [
    "fig,ax = plt.subplots(2, 1, sharex=True)\n",
    "ax[0].plot(time, V, 'k', lw=1)\n",
    "ax[1].plot(time, w, 'b', lw=1)\n",
    "for axx in ax:\n",
    "    axx.grid(which='major', axis='both', color=[.6,.6,.6], ls=':', lw=0.5)\n",
    "    for side in 'right','top':\n",
    "        axx.spines[side].set_visible(False)\n",
    "ax[0].set_xlim([stim_start/ms - 20, stim_stop/ms + 100])\n",
    "ax[-1].set_xlabel('Time (ms)')\n",
    "ax[0].set_ylabel('V (mV)')\n",
    "ax[1].set_ylabel('w (pA)')\n",
    "fig.tight_layout()"
   ]
  }
 ],
 "metadata": {
  "kernelspec": {
   "display_name": "Python 3.9",
   "language": "python",
   "name": "python-3.9"
  },
  "language_info": {
   "codemirror_mode": {
    "name": "ipython",
    "version": 3
   },
   "file_extension": ".py",
   "mimetype": "text/x-python",
   "name": "python",
   "nbconvert_exporter": "python",
   "pygments_lexer": "ipython3",
   "version": "3.9.9"
  }
 },
 "nbformat": 4,
 "nbformat_minor": 4
}
