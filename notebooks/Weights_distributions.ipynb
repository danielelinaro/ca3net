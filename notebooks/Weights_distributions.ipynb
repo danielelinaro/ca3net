{
 "cells": [
  {
   "cell_type": "code",
   "execution_count": null,
   "metadata": {},
   "outputs": [],
   "source": [
    "import os\n",
    "import re\n",
    "import sys\n",
    "import glob\n",
    "import pickle\n",
    "import numpy as np\n",
    "import matplotlib.pyplot as plt\n",
    "if '../scripts' not in sys.path:\n",
    "    sys.path.append('../scripts')\n",
    "# from plots import plot_wmx, plot_wmx_avg, plot_w_distr, plot_weights, save_selected_w\n",
    "%matplotlib inline"
   ]
  },
  {
   "cell_type": "code",
   "execution_count": null,
   "metadata": {},
   "outputs": [],
   "source": [
    "athorny_PCs_ratio = 0.0                                                                            \n",
    "data = np.load(f'../files/spike_times_a-thorny_place_cells_ratio={athorny_PCs_ratio:.1f}.npz',\n",
    "               allow_pickle=True)\n",
    "spike_times = data['spike_trains'].item()\n",
    "PCs = data['place_cell'].item()\n",
    "cell_types = PCs.keys()\n",
    "selected_PCs = {}\n",
    "selected_not_PCs = {}\n",
    "n_selected_PCs, n_selected_not_PCs = 5, 5\n",
    "for cell_type in cell_types:\n",
    "    idx, = np.where(PCs[cell_type] == True)\n",
    "    if len(idx) > 0:\n",
    "        jdx = np.linspace(0, idx.size-1, n_selected_PCs+2, dtype=np.int32)\n",
    "        selected_PCs[cell_type] = idx[jdx[1:-1]]\n",
    "    else:\n",
    "        selected_PCs[cell_type] = np.random.permutation(PCs[cell_type].size)[:n_selected_PCs]\n",
    "        selected_PCs[cell_type].sort()\n",
    "    idx, = np.where(PCs[cell_type] == False)\n",
    "    selected_not_PCs[cell_type] = np.random.permutation(PCs[cell_type].size)[:n_selected_not_PCs]\n",
    "    selected_not_PCs[cell_type].sort()"
   ]
  },
  {
   "cell_type": "code",
   "execution_count": null,
   "metadata": {},
   "outputs": [],
   "source": [
    "data = np.load(f'../files/weights_a-thorny_place_cells_ratio={athorny_PCs_ratio:.1f}.npz',\n",
    "               allow_pickle=True)\n",
    "weights = data['weights'].item()\n",
    "config = data['config'].item()\n",
    "connections = config['connectivity']"
   ]
  },
  {
   "cell_type": "code",
   "execution_count": null,
   "metadata": {},
   "outputs": [],
   "source": [
    "pre, post = 'thorny', 'thorny'\n",
    "W = weights[pre][post].toarray()\n",
    "cell_id = selected_PCs[post][2]\n",
    "# cell_id = selected_not_PCs[post][2]\n",
    "wgts = W[:,cell_id]"
   ]
  },
  {
   "cell_type": "code",
   "execution_count": null,
   "metadata": {},
   "outputs": [],
   "source": [
    "PC, = np.where((PCs[pre] == True) & (wgts > 0))\n",
    "not_PC, = np.where((PCs[pre] == False) & (wgts > 0))\n",
    "pos_PC_wgts = PC.size / np.sum(PCs[pre]) * 100\n",
    "pos_not_PC_wgts = not_PC.size / np.sum(np.logical_not(PCs[pre])) * 100\n",
    "print(f'{pos_PC_wgts:.2f}% of weights from place cells are > 0.')\n",
    "print(f'{pos_not_PC_wgts:.2f}% of weights from non place cells are > 0.')\n",
    "\n",
    "ms = 4\n",
    "fig,ax = plt.subplots(1, 1, figsize=(6,4))\n",
    "PC_col = [.7, 0, .7]\n",
    "not_PC_col = [0, .7, 0]\n",
    "ax.plot(not_PC, wgts[not_PC] * 1e9, '.', color=not_PC_col, markersize=ms, label='Not PCs')\n",
    "ax.plot(PC, wgts[PC] * 1e9, 'o', color=PC_col, markerfacecolor=PC_col, markersize=ms, label='PCs')\n",
    "for side in 'right','top':\n",
    "    ax.spines[side].set_visible(False)\n",
    "ax.set_xlabel('Presynaptic neuron #')\n",
    "ax.set_ylabel('Synaptic weight (nS)')\n",
    "ax.legend(loc='best')\n",
    "fig.tight_layout()                                                                                                                                                                                  "
   ]
  }
 ],
 "metadata": {
  "kernelspec": {
   "display_name": "Python 3.9",
   "language": "python",
   "name": "python-3.9"
  },
  "language_info": {
   "codemirror_mode": {
    "name": "ipython",
    "version": 3
   },
   "file_extension": ".py",
   "mimetype": "text/x-python",
   "name": "python",
   "nbconvert_exporter": "python",
   "pygments_lexer": "ipython3",
   "version": "3.9.9"
  }
 },
 "nbformat": 4,
 "nbformat_minor": 4
}
