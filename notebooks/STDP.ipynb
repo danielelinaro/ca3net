{
 "cells": [
  {
   "cell_type": "code",
   "execution_count": null,
   "metadata": {},
   "outputs": [],
   "source": [
    "import os\n",
    "import re\n",
    "import sys\n",
    "import glob\n",
    "import pickle\n",
    "import numpy as np\n",
    "import matplotlib.pyplot as plt\n",
    "if '../scripts' not in sys.path:\n",
    "    sys.path.append('../scripts')\n",
    "from plots import plot_wmx, plot_wmx_avg, plot_w_distr, plot_weights, save_selected_w"
   ]
  },
  {
   "cell_type": "code",
   "execution_count": null,
   "metadata": {},
   "outputs": [],
   "source": [
    "athorny_place_cells_ratio = 0.2\n",
    "data = np.load(f'../files/spike_times_a-thorny_place_cells_ratio={athorny_place_cells_ratio:.1f}.npz',\n",
    "               allow_pickle=True)\n",
    "spike_times = data['spike_trains'].item()\n",
    "place_cells = data['place_cell'].item()\n",
    "cell_types = place_cells.keys()\n",
    "selected_cells = {}\n",
    "n_selected_cells = 5\n",
    "for cell_type in cell_types:\n",
    "    idx, = np.where(place_cells[cell_type])\n",
    "    if len(idx) > 0:\n",
    "        jdx = np.linspace(0, idx.size-1, n_selected_cells+2, dtype=np.int32)\n",
    "        selected_cells[cell_type] = idx[jdx[1:-1]]\n",
    "    else:\n",
    "        selected_cells[cell_type] = np.random.permutation(place_cells[cell_type].size)[:n_selected_cells]\n",
    "        selected_cells[cell_type].sort()"
   ]
  },
  {
   "cell_type": "code",
   "execution_count": null,
   "metadata": {},
   "outputs": [],
   "source": [
    "data = np.load(f'../files/weights_a-thorny_place_cells_ratio={athorny_place_cells_ratio:.1f}.npz',\n",
    "               allow_pickle=True)\n",
    "weights = data['weights'].item()\n",
    "config = data['config'].item()\n",
    "connections = config['connectivity']"
   ]
  },
  {
   "cell_type": "code",
   "execution_count": null,
   "metadata": {
    "scrolled": false
   },
   "outputs": [],
   "source": [
    "# %%capture\n",
    "selection = {\n",
    "    'thorny': {\n",
    "        'thorny': selected_cells['thorny'],\n",
    "        'a-thorny': selected_cells['a-thorny']\n",
    "    },\n",
    "    'a-thorny': {\n",
    "        'thorny': selected_cells['thorny'],\n",
    "        'a-thorny': selected_cells['a-thorny']\n",
    "    }\n",
    "}\n",
    "min_weight = {'thorny': {'thorny': 0.5, 'a-thorny': 0.005},\n",
    "              'a-thorny': {'thorny': 0.005, 'a-thorny': 0.005}}\n",
    "max_weight = {'thorny': {'thorny': 8, 'a-thorny': 1},\n",
    "              'a-thorny': {'thorny': 1, 'a-thorny': 4}}\n",
    "max_count = {'thorny': {'thorny': 1e6, 'a-thorny': 1e5},\n",
    "              'a-thorny': {'thorny': 1e5, 'a-thorny': 1e5}}\n",
    "for pre,post in zip(connections['pre'], connections['post']):\n",
    "    wgts = weights[pre][post].toarray()\n",
    "    fig = plt.figure(figsize=(10, 10))\n",
    "    gs = fig.add_gridspec(4, 2)\n",
    "    ax = [fig.add_subplot(gs[:2, 0]),\n",
    "          fig.add_subplot(gs[:2, 1]),\n",
    "          fig.add_subplot(gs[2, 0]),\n",
    "          fig.add_subplot(gs[3, 0]),\n",
    "          fig.add_subplot(gs[2:, 1])]\n",
    "    plot_wmx(wgts, ax=ax[0])\n",
    "    plot_wmx_avg(wgts, n_pops=100, ax=ax[1])\n",
    "    xlim = [min_weight[pre][post], wgts.max() * 1e9]\n",
    "    plot_w_distr(wgts, bins=50, ax=ax[2:4], xlim=xlim, ylim=[1, max_count[pre][post]])\n",
    "    plot_weights(save_selected_w(wgts, selection[pre][post]), ax=ax[-1], ylim=[0, wgts.max() * 1e9])\n",
    "    fig.tight_layout()\n",
    "    fig.savefig(f'weights_{pre}_{post}_a-thorny_place_cells_ratio={athorny_place_cells_ratio:.1f}.pdf')"
   ]
  },
  {
   "cell_type": "code",
   "execution_count": null,
   "metadata": {},
   "outputs": [],
   "source": [
    "raise Exception('stop here')"
   ]
  },
  {
   "cell_type": "code",
   "execution_count": null,
   "metadata": {},
   "outputs": [],
   "source": [
    "place_cell_ratio = 0.5\n",
    "track_type = 'linear'\n",
    "n_neurons = 8000\n",
    "t_max = 1205\n",
    "data_folder = os.path.join('..', 'files', f't_max={t_max:.0f}')\n",
    "weights_files_pattern = os.path.join(data_folder,\n",
    "        f'wmx_sym_N={n_neurons}_ratio={place_cell_ratio}_dur=*_{track_type}_sparse.pkl')\n",
    "weights_files = glob.glob(weights_files_pattern)\n",
    "durs = np.array([float(re.findall('dur=\\d+', f)[0].split('=')[1]) for f in weights_files])\n",
    "idx = np.argsort(durs)\n",
    "weights_files = [weights_files[i] for i in idx]\n",
    "durs = durs[idx]\n",
    "weights = [pickle.load(open(f, 'rb')) for f in weights_files]"
   ]
  },
  {
   "cell_type": "code",
   "execution_count": null,
   "metadata": {},
   "outputs": [],
   "source": [
    "%%capture\n",
    "weight_max = 13\n",
    "for i,dur in enumerate(durs):\n",
    "    wgts = weights[i].toarray()\n",
    "    selection = np.array([501, 2400, 4002, 5502, 7015])\n",
    "    fig = plt.figure(figsize=(10, 10))\n",
    "    gs = fig.add_gridspec(4, 2)\n",
    "    ax = [fig.add_subplot(gs[:2, 0]),\n",
    "          fig.add_subplot(gs[:2, 1]),\n",
    "          fig.add_subplot(gs[2, 0]),\n",
    "          fig.add_subplot(gs[3, 0]),\n",
    "          fig.add_subplot(gs[2:, 1])]\n",
    "    plot_wmx(wgts, ax=ax[0])\n",
    "    plot_wmx_avg(wgts, n_pops=100, ax=ax[1])\n",
    "    plot_w_distr(wgts, bins=50, ax=ax[2:4], xlim=[0.5, weight_max], ylim=[1, 10000])\n",
    "    plot_weights(save_selected_w(wgts, selection), ax=ax[-1], ylim=[0, weight_max])\n",
    "    fig.tight_layout()\n",
    "    out_file = os.path.join('..', 'figures', f't_max={t_max:.0f}',\n",
    "                            f'wmx_sym_N={n_neurons}_ratio={place_cell_ratio}_dur={dur:.0f}_{track_type}_sparse.pdf')\n",
    "    fig.savefig(out_file)"
   ]
  }
 ],
 "metadata": {
  "kernelspec": {
   "display_name": "Python 3.9",
   "language": "python",
   "name": "python-3.9"
  },
  "language_info": {
   "codemirror_mode": {
    "name": "ipython",
    "version": 3
   },
   "file_extension": ".py",
   "mimetype": "text/x-python",
   "name": "python",
   "nbconvert_exporter": "python",
   "pygments_lexer": "ipython3",
   "version": "3.9.9"
  }
 },
 "nbformat": 4,
 "nbformat_minor": 4
}
