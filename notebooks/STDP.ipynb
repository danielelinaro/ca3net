{
 "cells": [
  {
   "cell_type": "code",
   "execution_count": null,
   "metadata": {},
   "outputs": [],
   "source": [
    "import os\n",
    "import re\n",
    "import sys\n",
    "import glob\n",
    "import pickle\n",
    "import numpy as np\n",
    "import matplotlib.pyplot as plt\n",
    "if '..' not in sys.path:\n",
    "    sys.path.append('../scripts')\n",
    "from plots import plot_wmx, plot_wmx_avg, plot_w_distr, plot_weights, save_selected_w"
   ]
  },
  {
   "cell_type": "code",
   "execution_count": null,
   "metadata": {},
   "outputs": [],
   "source": [
    "place_cell_ratio = 0.5\n",
    "track_type = 'linear'\n",
    "n_neurons = 8000\n",
    "t_max = 1205\n",
    "data_folder = os.path.join('..', 'files', f't_max={t_max:.0f}')\n",
    "weights_files_pattern = os.path.join(data_folder,\n",
    "        f'wmx_sym_N={n_neurons}_ratio={place_cell_ratio}_dur=*_{track_type}_sparse.pkl')\n",
    "weights_files = glob.glob(weights_files_pattern)\n",
    "durs = np.array([float(re.findall('dur=\\d+', f)[0].split('=')[1]) for f in weights_files])\n",
    "idx = np.argsort(durs)\n",
    "weights_files = [weights_files[i] for i in idx]\n",
    "durs = durs[idx]\n",
    "weights = [pickle.load(open(f, 'rb')) for f in weights_files]"
   ]
  },
  {
   "cell_type": "code",
   "execution_count": null,
   "metadata": {},
   "outputs": [],
   "source": [
    "%%capture\n",
    "for i,dur in enumerate(durs):\n",
    "    wgts = weights[i].toarray()\n",
    "    selection = np.array([501, 2400, 4002, 5502, 7015])\n",
    "    fig = plt.figure(figsize=(10, 10))\n",
    "    gs = fig.add_gridspec(4, 2)\n",
    "    ax = [fig.add_subplot(gs[:2, 0]),\n",
    "          fig.add_subplot(gs[:2, 1]),\n",
    "          fig.add_subplot(gs[2, 0]),\n",
    "          fig.add_subplot(gs[3, 0]),\n",
    "          fig.add_subplot(gs[2:, 1])]\n",
    "    plot_wmx(wgts, ax=ax[0])\n",
    "    plot_wmx_avg(wgts, n_pops=100, ax=ax[1])\n",
    "    plot_w_distr(wgts, ax=ax[2:4], xlim=[0.5, 7], ylim=[1, 5000])\n",
    "    plot_weights(save_selected_w(wgts, selection), ax=ax[-1], ylim=[0,6])\n",
    "    fig.tight_layout()\n",
    "    out_file = os.path.join('..', 'figures', f't_max={t_max:.0f}',\n",
    "                            f'wmx_sym_N={n_neurons}_ratio={place_cell_ratio}_dur={dur:.0f}_{track_type}_sparse.pdf')\n",
    "    fig.savefig(out_file)"
   ]
  }
 ],
 "metadata": {
  "kernelspec": {
   "display_name": "Python 3.9",
   "language": "python",
   "name": "python-3.9"
  },
  "language_info": {
   "codemirror_mode": {
    "name": "ipython",
    "version": 3
   },
   "file_extension": ".py",
   "mimetype": "text/x-python",
   "name": "python",
   "nbconvert_exporter": "python",
   "pygments_lexer": "ipython3",
   "version": "3.9.9"
  }
 },
 "nbformat": 4,
 "nbformat_minor": 4
}
