{
 "cells": [
  {
   "cell_type": "code",
   "execution_count": null,
   "metadata": {},
   "outputs": [],
   "source": [
    "import os\n",
    "import re\n",
    "import sys\n",
    "import glob\n",
    "import pickle\n",
    "import numpy as np\n",
    "import matplotlib.pyplot as plt\n",
    "if '../scripts' not in sys.path:\n",
    "    sys.path.append('../scripts')\n",
    "from plots import plot_wmx, plot_wmx_avg, plot_w_distr, plot_weights, save_selected_w"
   ]
  },
  {
   "cell_type": "code",
   "execution_count": null,
   "metadata": {},
   "outputs": [],
   "source": [
    "athorny_rate = 0.1\n",
    "n_thorny = 8000\n",
    "fmt = '../files/weights_a-thorny_rate={}_N_thorny={}.npz'\n",
    "data_files = sorted(glob.glob(fmt.format('*', n_thorny)))\n",
    "data = np.load(data_files[0], allow_pickle=True)\n",
    "weights = data['weights'].item()\n",
    "config = data['config'].item()\n",
    "connections = config['connectivity']"
   ]
  },
  {
   "cell_type": "code",
   "execution_count": null,
   "metadata": {},
   "outputs": [],
   "source": [
    "wgts = weights['thorny']['thorny'].todense()\n",
    "fig,ax = plt.subplots(1, 2, figsize=(10,5))\n",
    "plot_wmx(wgts, ax=ax[0])\n",
    "plot_wmx_avg(wgts, n_pops=100, ax=ax[1])"
   ]
  },
  {
   "cell_type": "code",
   "execution_count": null,
   "metadata": {},
   "outputs": [],
   "source": [
    "pre, post = 'thorny', 'a-thorny'\n",
    "W = []\n",
    "rate = []\n",
    "for data_file in data_files:\n",
    "    data = np.load(data_file, allow_pickle=True)\n",
    "    weights = data['weights'].item()\n",
    "    W.append(weights[pre][post].todense())\n",
    "    rate.append(float(re.findall('rate=\\d+.\\d+', data_file)[0].split('=')[1]))\n",
    "idx = [a == pre and b == post for a,b in zip(connections['pre'], connections['post'])].index(True)\n",
    "n_pre, n_post = W[0].shape\n",
    "middle = np.linspace(0, n_pre, n_post+2)[1:-1]\n",
    "sigma = connections['n_pre'][idx]"
   ]
  },
  {
   "cell_type": "code",
   "execution_count": null,
   "metadata": {},
   "outputs": [],
   "source": [
    "fig,ax = plt.subplots(1, 1)\n",
    "cmap = plt.get_cmap('cividis', len(W))\n",
    "for i,wgts in enumerate(W):\n",
    "    ax.plot(wgts * 1e9, color=cmap(i), lw=1, label=f'A-th rate: {rate[i]} sp/s')\n",
    "ax.set_xlim([middle-3*sigma, middle+3*sigma])\n",
    "ax.legend(loc='best', frameon=False)\n",
    "ax.set_xlabel('Presynaptic neuron ID')\n",
    "ax.set_ylabel('Synaptic weight (nS)')\n",
    "for side in 'right','top':\n",
    "    ax.spines[side].set_visible(False)\n",
    "fig.tight_layout()"
   ]
  }
 ],
 "metadata": {
  "kernelspec": {
   "display_name": "Python 3.9",
   "language": "python",
   "name": "python-3.9"
  },
  "language_info": {
   "codemirror_mode": {
    "name": "ipython",
    "version": 3
   },
   "file_extension": ".py",
   "mimetype": "text/x-python",
   "name": "python",
   "nbconvert_exporter": "python",
   "pygments_lexer": "ipython3",
   "version": "3.9.9"
  }
 },
 "nbformat": 4,
 "nbformat_minor": 4
}
