{
 "cells": [
  {
   "cell_type": "code",
   "execution_count": null,
   "metadata": {},
   "outputs": [],
   "source": [
    "import numpy as np\n",
    "import matplotlib.pyplot as plt\n",
    "from scipy.stats import norm\n",
    "%matplotlib inline"
   ]
  },
  {
   "cell_type": "code",
   "execution_count": null,
   "metadata": {},
   "outputs": [],
   "source": [
    "N_pre_total = 2000\n",
    "N_pre_conn  = 20\n",
    "x = np.arange(N_pre_total)\n",
    "mu = N_pre_total // 2\n",
    "sigma = 10\n",
    "pdf = N_pre_conn / (sigma * np.sqrt(2*np.pi)) * np.exp(-0.5 * ((x - mu) / sigma) ** 2)"
   ]
  },
  {
   "cell_type": "code",
   "execution_count": null,
   "metadata": {},
   "outputs": [],
   "source": [
    "N_trials = 10000\n",
    "pre = np.concatenate(\n",
    "    [np.where(np.random.uniform(size=N_pre_total) <= pdf)[0] for _ in range(N_trials)]\n",
    ").flatten()\n",
    "print(f'Average number of connections: {pre.size/N_trials:.2f}.')"
   ]
  },
  {
   "cell_type": "code",
   "execution_count": null,
   "metadata": {},
   "outputs": [],
   "source": [
    "edges = np.arange(pre.min(), pre.max())\n",
    "N,_ = np.histogram(pre, bins=edges)"
   ]
  },
  {
   "cell_type": "code",
   "execution_count": null,
   "metadata": {},
   "outputs": [],
   "source": [
    "fig,ax = plt.subplots(1, 1, figsize=(8,3))\n",
    "ax.bar(edges[:-1], N / N_trials, width=1)\n",
    "ax.set_xlabel('Neuron ID')\n",
    "ax.set_ylabel('Prob')\n",
    "for side in 'right','top':\n",
    "    ax.spines[side].set_visible(False)\n",
    "fig.tight_layout()"
   ]
  }
 ],
 "metadata": {
  "kernelspec": {
   "display_name": "Python 3.9",
   "language": "python",
   "name": "python-3.9"
  },
  "language_info": {
   "codemirror_mode": {
    "name": "ipython",
    "version": 3
   },
   "file_extension": ".py",
   "mimetype": "text/x-python",
   "name": "python",
   "nbconvert_exporter": "python",
   "pygments_lexer": "ipython3",
   "version": "3.9.9"
  }
 },
 "nbformat": 4,
 "nbformat_minor": 4
}
